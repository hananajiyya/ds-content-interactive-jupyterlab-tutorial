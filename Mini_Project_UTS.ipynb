{
  "nbformat": 4,
  "nbformat_minor": 0,
  "metadata": {
    "colab": {
      "provenance": [],
      "authorship_tag": "ABX9TyMnt4RHITFl0SthE1P9Uau1"
    },
    "kernelspec": {
      "name": "python3",
      "display_name": "Python 3"
    },
    "language_info": {
      "name": "python"
    }
  },
  "cells": [
    {
      "cell_type": "code",
      "execution_count": 1,
      "metadata": {
        "colab": {
          "base_uri": "https://localhost:8080/"
        },
        "id": "h2u7YT8kf59g",
        "outputId": "d36548ff-5423-460e-f4ad-f120b3cfae1c"
      },
      "outputs": [
        {
          "output_type": "stream",
          "name": "stdout",
          "text": [
            "Mounted at /content/drive\n"
          ]
        }
      ],
      "source": [
        "from google.colab import drive\n",
        "drive.mount('/content/drive')"
      ]
    },
    {
      "cell_type": "code",
      "source": [
        "!pip install scikit-learn"
      ],
      "metadata": {
        "colab": {
          "base_uri": "https://localhost:8080/"
        },
        "id": "Xc_ApRwgkbUk",
        "outputId": "47dcf03b-62f0-401c-a101-1d5facaf5185"
      },
      "execution_count": 10,
      "outputs": [
        {
          "output_type": "stream",
          "name": "stdout",
          "text": [
            "Requirement already satisfied: scikit-learn in /usr/local/lib/python3.10/dist-packages (1.2.2)\n",
            "Requirement already satisfied: numpy>=1.17.3 in /usr/local/lib/python3.10/dist-packages (from scikit-learn) (1.25.2)\n",
            "Requirement already satisfied: scipy>=1.3.2 in /usr/local/lib/python3.10/dist-packages (from scikit-learn) (1.11.4)\n",
            "Requirement already satisfied: joblib>=1.1.1 in /usr/local/lib/python3.10/dist-packages (from scikit-learn) (1.4.0)\n",
            "Requirement already satisfied: threadpoolctl>=2.0.0 in /usr/local/lib/python3.10/dist-packages (from scikit-learn) (3.4.0)\n"
          ]
        }
      ]
    },
    {
      "cell_type": "code",
      "source": [
        "import matplotlib.pyplot as plt\n",
        "import seaborn as sns\n",
        "import pandas as pd\n",
        "import numpy as np\n",
        "from sklearn import svm\n",
        "from sklearn import metrics\n",
        "from sklearn.svm import SVC\n",
        "from sklearn.metrics import accuracy_score\n",
        "from sklearn.metrics import confusion_matrix\n",
        "from sklearn.metrics import classification_report\n",
        "from sklearn.model_selection import cross_val_score\n",
        "from sklearn.model_selection import train_test_split, KFold\n",
        "from sklearn.neighbors import KNeighborsClassifier\n",
        "from sklearn.metrics import accuracy_score, precision_score, recall_score"
      ],
      "metadata": {
        "id": "GPGABNMBgIhr"
      },
      "execution_count": 19,
      "outputs": []
    },
    {
      "cell_type": "code",
      "source": [
        "# List file Excel di dalam folder tertentu di Google Drive\n",
        "folder_path = '/content/drive/MyDrive/SLO/MINIPROJECTSLO'\n",
        "file_names = ['CPA1.xlsx', 'CPA2.xlsx', 'CPA3.xlsx' ]\n",
        "\n",
        "# Membaca file pertama tanpa menghapus baris pertama\n",
        "first_file_path = f\"{folder_path}/{file_names[0]}\"\n",
        "first_df = pd.read_excel(first_file_path)\n",
        "\n",
        "# Membaca file-file lainnya, menghapus baris pertama, dan memasukkan data ke dalam list\n",
        "dfs = [first_df]\n",
        "for file_name in file_names[1:]:\n",
        "    file_path = f\"{folder_path}/{file_name}\"\n",
        "    df = pd.read_excel(file_path)\n",
        "    df = df.iloc[1:]  # Menghapus baris pertama\n",
        "    dfs.append(df)\n",
        "\n",
        "# Menggabungkan semua DataFrame menjadi satu DataFrame\n",
        "combined_df = pd.concat(dfs, ignore_index=True)\n",
        "\n",
        "combined_csv_file_path = f\"{folder_path}/cpa_combined.csv\"\n",
        "combined_df.to_csv(combined_csv_file_path, index=False)\n",
        "\n",
        "print(\"File berhasil digabungkan dan disimpan:\", combined_csv_file_path)"
      ],
      "metadata": {
        "colab": {
          "base_uri": "https://localhost:8080/"
        },
        "id": "hoIj1fd7hmZn",
        "outputId": "3a687f06-71fd-4206-83c7-e22cb967dc23"
      },
      "execution_count": 20,
      "outputs": [
        {
          "output_type": "stream",
          "name": "stdout",
          "text": [
            "File berhasil digabungkan dan disimpan: /content/drive/MyDrive/SLO/MINIPROJECTSLO/cpa_combined.csv\n"
          ]
        }
      ]
    },
    {
      "cell_type": "code",
      "source": [
        "# List file Excel di dalam folder tertentu di Google Drive\n",
        "folder_path = '/content/drive/MyDrive/SLO/MINIPROJECTSLO'\n",
        "file_names = ['CPC1.xlsx', 'CPC2.xlsx', 'CPC3.xlsx', 'CPC4.xlsx', 'CPC5.xlsx' ]\n",
        "\n",
        "# Membaca file pertama tanpa menghapus baris pertama\n",
        "first_file_path = f\"{folder_path}/{file_names[0]}\"\n",
        "first_df = pd.read_excel(first_file_path)\n",
        "\n",
        "# Membaca file-file lainnya, menghapus baris pertama, dan memasukkan data ke dalam list\n",
        "dfs = [first_df]\n",
        "for file_name in file_names[1:]:\n",
        "    file_path = f\"{folder_path}/{file_name}\"\n",
        "    df = pd.read_excel(file_path)\n",
        "    df = df.iloc[1:]  # Menghapus baris pertama\n",
        "    dfs.append(df)\n",
        "\n",
        "# Menggabungkan semua DataFrame menjadi satu DataFrame\n",
        "combined_df = pd.concat(dfs, ignore_index=True)\n",
        "\n",
        "combined_csv_file_path = f\"{folder_path}/cpc_combined.csv\"\n",
        "combined_df.to_csv(combined_csv_file_path, index=False)\n",
        "\n",
        "print(\"File berhasil digabungkan dan disimpan:\", combined_csv_file_path)"
      ],
      "metadata": {
        "colab": {
          "base_uri": "https://localhost:8080/"
        },
        "id": "Wji8NZCzmgcn",
        "outputId": "7c4f402b-0099-4724-efa0-1ee2316fa982"
      },
      "execution_count": 21,
      "outputs": [
        {
          "output_type": "stream",
          "name": "stdout",
          "text": [
            "File berhasil digabungkan dan disimpan: /content/drive/MyDrive/SLO/MINIPROJECTSLO/cpc_combined.csv\n"
          ]
        }
      ]
    },
    {
      "cell_type": "markdown",
      "source": [
        "**CPA** - **SVM** -  75% training, 25% testing"
      ],
      "metadata": {
        "id": "Awu7uyJlmyTC"
      }
    },
    {
      "cell_type": "code",
      "source": [
        "import pandas as pd\n",
        "import numpy as np\n",
        "from sklearn.model_selection import KFold, train_test_split\n",
        "from sklearn.svm import SVC\n",
        "from sklearn.neighbors import KNeighborsClassifier\n",
        "from sklearn.metrics import accuracy_score, precision_score, recall_score, f1_score\n",
        "\n",
        "# Baca data dari file CSV\n",
        "df = pd.read_csv(\"/content/drive/MyDrive/SLO/MINIPROJECTSLO/cpa_combined.csv\")\n",
        "\n",
        "# Pisahkan fitur dan kelas\n",
        "X = df.iloc[:, :-1]  # Fitur\n",
        "y = df.iloc[:, -1]   # Kelas\n",
        "\n",
        "# Bagi data menjadi 75% training dan 25% testing\n",
        "X_train, X_test, y_train, y_test = train_test_split(X, y, test_size=0.25, random_state=42)\n",
        "\n",
        "# Inisialisasi model SVM\n",
        "svm_model = SVC()\n",
        "\n",
        "# Inisialisasi model K-NN\n",
        "knn_model = KNeighborsClassifier()\n",
        "\n",
        "# Inisialisasi KFold dengan 10 lipatan\n",
        "kf = KFold(n_splits=10, shuffle=True)\n",
        "\n",
        "# Inisialisasi list untuk menyimpan metrik evaluasi\n",
        "svm_accuracy_scores = []\n",
        "svm_precision_scores = []\n",
        "svm_recall_scores = []\n",
        "svm_f1_scores = []\n",
        "\n",
        "knn_accuracy_scores = []\n",
        "knn_precision_scores = []\n",
        "knn_recall_scores = []\n",
        "knn_f1_scores = []\n",
        "\n",
        "# Lakukan 10-fold cross-validation\n",
        "for train_index, test_index in kf.split(X_train):\n",
        "    X_fold_train, X_fold_test = X_train.iloc[train_index], X_train.iloc[test_index]\n",
        "    y_fold_train, y_fold_test = y_train.iloc[train_index], y_train.iloc[test_index]\n",
        "\n",
        "    # Latih model SVM\n",
        "    svm_model.fit(X_fold_train, y_fold_train)\n",
        "\n",
        "    # Prediksi kelas menggunakan data pengujian\n",
        "    svm_y_pred = svm_model.predict(X_fold_test)\n",
        "\n",
        "    # Hitung metrik evaluasi untuk SVM\n",
        "    svm_accuracy = accuracy_score(y_fold_test, svm_y_pred)\n",
        "    svm_precision = precision_score(y_fold_test, svm_y_pred, average='weighted')\n",
        "    svm_recall = recall_score(y_fold_test, svm_y_pred, average='weighted')\n",
        "    svm_f1 = f1_score(y_fold_test, svm_y_pred, average='weighted')\n",
        "\n",
        "    # Simpan metrik evaluasi untuk SVM\n",
        "    svm_accuracy_scores.append(svm_accuracy)\n",
        "    svm_precision_scores.append(svm_precision)\n",
        "    svm_recall_scores.append(svm_recall)\n",
        "    svm_f1_scores.append(svm_f1)\n",
        "\n",
        "    # Latih model K-NN\n",
        "    knn_model.fit(X_fold_train, y_fold_train)\n",
        "\n",
        "    # Prediksi kelas menggunakan data pengujian\n",
        "    knn_y_pred = knn_model.predict(X_fold_test)\n",
        "\n",
        "    # Hitung metrik evaluasi untuk K-NN\n",
        "    knn_accuracy = accuracy_score(y_fold_test, knn_y_pred)\n",
        "    knn_precision = precision_score(y_fold_test, knn_y_pred, average='weighted')\n",
        "    knn_recall = recall_score(y_fold_test, knn_y_pred, average='weighted')\n",
        "    knn_f1 = f1_score(y_fold_test, knn_y_pred, average='weighted')\n",
        "\n",
        "    # Simpan metrik evaluasi untuk K-NN\n",
        "    knn_accuracy_scores.append(knn_accuracy)\n",
        "    knn_precision_scores.append(knn_precision)\n",
        "    knn_recall_scores.append(knn_recall)\n",
        "    knn_f1_scores.append(knn_f1)\n",
        "\n",
        "# Hitung rata-rata dan standar deviasi dari metrik evaluasi untuk SVM\n",
        "avg_svm_accuracy = np.mean(svm_accuracy_scores)\n",
        "std_svm_accuracy = np.std(svm_accuracy_scores)\n",
        "avg_svm_precision = np.mean(svm_precision_scores)\n",
        "std_svm_precision = np.std(svm_precision_scores)\n",
        "avg_svm_recall = np.mean(svm_recall_scores)\n",
        "std_svm_recall = np.std(svm_recall_scores)\n",
        "avg_svm_f1 = np.mean(svm_f1_scores)\n",
        "std_svm_f1 = np.std(svm_f1_scores)\n",
        "\n",
        "print(\"SVM - Average Accuracy:\", avg_svm_accuracy)\n",
        "print(\"SVM - Standard Deviation of Accuracy:\", std_svm_accuracy)\n",
        "print(\"SVM - Average Precision:\", avg_svm_precision)\n",
        "print(\"SVM - Standard Deviation of Precision:\", std_svm_precision)\n",
        "print(\"SVM - Average Recall:\", avg_svm_recall)\n",
        "print(\"SVM - Standard Deviation of Recall:\", std_svm_recall)\n",
        "print(\"SVM - Average F1-Score:\", avg_svm_f1)\n",
        "print(\"SVM - Standard Deviation of F1-Score:\", std_svm_f1)\n",
        "\n",
        "# Hitung rata-rata dan standar deviasi dari metrik evaluasi untuk K-NN\n",
        "avg_knn_accuracy = np.mean(knn_accuracy_scores)\n",
        "std_knn_accuracy = np.std(knn_accuracy_scores)\n",
        "avg_knn_precision = np.mean(knn_precision_scores)\n",
        "std_knn_precision = np.std(knn_precision_scores)\n",
        "avg_knn_recall = np.mean(knn_recall_scores)\n",
        "std_knn_recall = np.std(knn_recall_scores)\n",
        "avg_knn_f1 = np.mean(knn_f1_scores)\n",
        "std_knn_f1 = np.std(knn_f1_scores)\n",
        "\n",
        "print(\"\\nK-NN - Average Accuracy:\", avg_knn_accuracy)\n",
        "print(\"K-NN - Standard Deviation of Accuracy:\", std_knn_accuracy)\n",
        "print(\"K-NN - Average Precision:\", avg_knn_precision)\n",
        "print(\"K-NN - Standard Deviation of Precision:\", std_knn_precision)\n",
        "print(\"K-NN - Average Recall:\", avg_knn_recall)\n",
        "print(\"K-NN - Standard Deviation of Recall:\", std_knn_recall)\n",
        "print(\"K-NN - Average F1-Score:\", avg_knn_f1)\n",
        "print(\"K-NN - Standard Deviation of F1-Score:\", std_knn_f1)\n"
      ],
      "metadata": {
        "colab": {
          "base_uri": "https://localhost:8080/"
        },
        "id": "lF8zxLGVk5Ml",
        "outputId": "f838d18e-e0ba-4dbd-cf7e-0fd3c29c3a96"
      },
      "execution_count": 30,
      "outputs": [
        {
          "output_type": "stream",
          "name": "stderr",
          "text": [
            "/usr/local/lib/python3.10/dist-packages/sklearn/metrics/_classification.py:1344: UndefinedMetricWarning: Precision is ill-defined and being set to 0.0 in labels with no predicted samples. Use `zero_division` parameter to control this behavior.\n",
            "  _warn_prf(average, modifier, msg_start, len(result))\n",
            "/usr/local/lib/python3.10/dist-packages/sklearn/metrics/_classification.py:1344: UndefinedMetricWarning: Precision is ill-defined and being set to 0.0 in labels with no predicted samples. Use `zero_division` parameter to control this behavior.\n",
            "  _warn_prf(average, modifier, msg_start, len(result))\n",
            "/usr/local/lib/python3.10/dist-packages/sklearn/metrics/_classification.py:1344: UndefinedMetricWarning: Precision is ill-defined and being set to 0.0 in labels with no predicted samples. Use `zero_division` parameter to control this behavior.\n",
            "  _warn_prf(average, modifier, msg_start, len(result))\n",
            "/usr/local/lib/python3.10/dist-packages/sklearn/metrics/_classification.py:1344: UndefinedMetricWarning: Precision is ill-defined and being set to 0.0 in labels with no predicted samples. Use `zero_division` parameter to control this behavior.\n",
            "  _warn_prf(average, modifier, msg_start, len(result))\n",
            "/usr/local/lib/python3.10/dist-packages/sklearn/metrics/_classification.py:1344: UndefinedMetricWarning: Precision is ill-defined and being set to 0.0 in labels with no predicted samples. Use `zero_division` parameter to control this behavior.\n",
            "  _warn_prf(average, modifier, msg_start, len(result))\n",
            "/usr/local/lib/python3.10/dist-packages/sklearn/metrics/_classification.py:1344: UndefinedMetricWarning: Precision is ill-defined and being set to 0.0 in labels with no predicted samples. Use `zero_division` parameter to control this behavior.\n",
            "  _warn_prf(average, modifier, msg_start, len(result))\n",
            "/usr/local/lib/python3.10/dist-packages/sklearn/metrics/_classification.py:1344: UndefinedMetricWarning: Precision is ill-defined and being set to 0.0 in labels with no predicted samples. Use `zero_division` parameter to control this behavior.\n",
            "  _warn_prf(average, modifier, msg_start, len(result))\n",
            "/usr/local/lib/python3.10/dist-packages/sklearn/metrics/_classification.py:1344: UndefinedMetricWarning: Precision is ill-defined and being set to 0.0 in labels with no predicted samples. Use `zero_division` parameter to control this behavior.\n",
            "  _warn_prf(average, modifier, msg_start, len(result))\n"
          ]
        },
        {
          "output_type": "stream",
          "name": "stdout",
          "text": [
            "SVM - Average Accuracy: 0.4206095791001451\n",
            "SVM - Standard Deviation of Accuracy: 0.0713747533893805\n",
            "SVM - Average Precision: 0.18200677345219612\n",
            "SVM - Standard Deviation of Precision: 0.05886485257311422\n",
            "SVM - Average Recall: 0.4206095791001451\n",
            "SVM - Standard Deviation of Recall: 0.0713747533893805\n",
            "SVM - Average F1-Score: 0.2526790736308865\n",
            "SVM - Standard Deviation of F1-Score: 0.07087402159470334\n",
            "\n",
            "K-NN - Average Accuracy: 0.6196661828737302\n",
            "K-NN - Standard Deviation of Accuracy: 0.046550246134027855\n",
            "K-NN - Average Precision: 0.6046565722325529\n",
            "K-NN - Standard Deviation of Precision: 0.05701321840384218\n",
            "K-NN - Average Recall: 0.6196661828737302\n",
            "K-NN - Standard Deviation of Recall: 0.046550246134027855\n",
            "K-NN - Average F1-Score: 0.605600653972968\n",
            "K-NN - Standard Deviation of F1-Score: 0.04855550295177339\n"
          ]
        },
        {
          "output_type": "stream",
          "name": "stderr",
          "text": [
            "/usr/local/lib/python3.10/dist-packages/sklearn/metrics/_classification.py:1344: UndefinedMetricWarning: Precision is ill-defined and being set to 0.0 in labels with no predicted samples. Use `zero_division` parameter to control this behavior.\n",
            "  _warn_prf(average, modifier, msg_start, len(result))\n",
            "/usr/local/lib/python3.10/dist-packages/sklearn/metrics/_classification.py:1344: UndefinedMetricWarning: Precision is ill-defined and being set to 0.0 in labels with no predicted samples. Use `zero_division` parameter to control this behavior.\n",
            "  _warn_prf(average, modifier, msg_start, len(result))\n"
          ]
        }
      ]
    },
    {
      "cell_type": "code",
      "source": [
        "import pandas as pd\n",
        "import numpy as np\n",
        "from sklearn.model_selection import train_test_split\n",
        "from sklearn.svm import SVC\n",
        "from sklearn.neighbors import KNeighborsClassifier\n",
        "from sklearn.metrics import accuracy_score, precision_score, recall_score, f1_score\n",
        "\n",
        "# Baca data dari file CSV\n",
        "df = pd.read_csv(\"/content/drive/MyDrive/SLO/MINIPROJECTSLO/cpa_combined.csv\")\n",
        "\n",
        "# Pisahkan fitur dan kelas\n",
        "X = df.iloc[:, :-1]  # Fitur\n",
        "y = df.iloc[:, -1]   # Kelas\n",
        "\n",
        "# Bagi data menjadi 50% training, 25% validasi, dan 25% testing\n",
        "X_train, X_temp, y_train, y_temp = train_test_split(X, y, test_size=0.5, random_state=42)\n",
        "X_val, X_test, y_val, y_test = train_test_split(X_temp, y_temp, test_size=0.5, random_state=42)\n",
        "\n",
        "# Inisialisasi model SVM\n",
        "svm_model = SVC()\n",
        "\n",
        "# Inisialisasi model K-NN\n",
        "knn_model = KNeighborsClassifier()\n",
        "\n",
        "# Latih model SVM dengan data pelatihan\n",
        "svm_model.fit(X_train, y_train)\n",
        "\n",
        "# Latih model K-NN dengan data pelatihan\n",
        "knn_model.fit(X_train, y_train)\n",
        "\n",
        "# Prediksi kelas untuk data validasi\n",
        "svm_val_pred = svm_model.predict(X_val)\n",
        "knn_val_pred = knn_model.predict(X_val)\n",
        "\n",
        "# Evaluasi model dengan data validasi\n",
        "svm_val_accuracy = accuracy_score(y_val, svm_val_pred)\n",
        "svm_val_precision = precision_score(y_val, svm_val_pred, average='weighted')\n",
        "svm_val_recall = recall_score(y_val, svm_val_pred, average='weighted')\n",
        "svm_val_f1 = f1_score(y_val, svm_val_pred, average='weighted')\n",
        "\n",
        "knn_val_accuracy = accuracy_score(y_val, knn_val_pred)\n",
        "knn_val_precision = precision_score(y_val, knn_val_pred, average='weighted')\n",
        "knn_val_recall = recall_score(y_val, knn_val_pred, average='weighted')\n",
        "knn_val_f1 = f1_score(y_val, knn_val_pred, average='weighted')\n",
        "\n",
        "print(\"SVM Validation Metrics:\")\n",
        "print(\"Accuracy:\", svm_val_accuracy)\n",
        "print(\"Precision:\", svm_val_precision)\n",
        "print(\"Recall:\", svm_val_recall)\n",
        "print(\"F1-Score:\", svm_val_f1)\n",
        "\n",
        "print(\"\\nK-NN Validation Metrics:\")\n",
        "print(\"Accuracy:\", knn_val_accuracy)\n",
        "print(\"Precision:\", knn_val_precision)\n",
        "print(\"Recall:\", knn_val_recall)\n",
        "print(\"F1-Score:\", knn_val_f1)\n",
        "\n",
        "# Prediksi kelas untuk data pengujian\n",
        "svm_test_pred = svm_model.predict(X_test)\n",
        "knn_test_pred = knn_model.predict(X_test)\n",
        "\n",
        "# Evaluasi model dengan data pengujian\n",
        "svm_test_accuracy = accuracy_score(y_test, svm_test_pred)\n",
        "svm_test_precision = precision_score(y_test, svm_test_pred, average='weighted')\n",
        "svm_test_recall = recall_score(y_test, svm_test_pred, average='weighted')\n",
        "svm_test_f1 = f1_score(y_test, svm_test_pred, average='weighted')\n",
        "\n",
        "knn_test_accuracy = accuracy_score(y_test, knn_test_pred)\n",
        "knn_test_precision = precision_score(y_test, knn_test_pred, average='weighted')\n",
        "knn_test_recall = recall_score(y_test, knn_test_pred, average='weighted')\n",
        "knn_test_f1 = f1_score(y_test, knn_test_pred, average='weighted')\n",
        "\n",
        "print(\"\\nSVM Test Metrics:\")\n",
        "print(\"Accuracy:\", svm_test_accuracy)\n",
        "print(\"Precision:\", svm_test_precision)\n",
        "print(\"Recall:\", svm_test_recall)\n",
        "print(\"F1-Score:\", svm_test_f1)\n",
        "\n",
        "print(\"\\nK-NN Test Metrics:\")\n",
        "print(\"Accuracy:\", knn_test_accuracy)\n",
        "print(\"Precision:\", knn_test_precision)\n",
        "print(\"Recall:\", knn_test_recall)\n",
        "print(\"F1-Score:\", knn_test_f1)\n"
      ],
      "metadata": {
        "colab": {
          "base_uri": "https://localhost:8080/"
        },
        "id": "i7Ta7KYNw2eu",
        "outputId": "f3fa7e5e-94e7-40a4-ccd6-fb0f52b5d7ff"
      },
      "execution_count": 31,
      "outputs": [
        {
          "output_type": "stream",
          "name": "stdout",
          "text": [
            "SVM Validation Metrics:\n",
            "Accuracy: 0.4425287356321839\n",
            "Precision: 0.19583168186021932\n",
            "Recall: 0.4425287356321839\n",
            "F1-Score: 0.2715116545313001\n",
            "\n",
            "K-NN Validation Metrics:\n",
            "Accuracy: 0.6494252873563219\n",
            "Precision: 0.6133500957854406\n",
            "Recall: 0.6494252873563219\n",
            "F1-Score: 0.6269635619844908\n",
            "\n",
            "SVM Test Metrics:\n",
            "Accuracy: 0.3314285714285714\n",
            "Precision: 0.10984489795918366\n",
            "Recall: 0.3314285714285714\n",
            "F1-Score: 0.16500306560392397\n",
            "\n",
            "K-NN Test Metrics:\n",
            "Accuracy: 0.6171428571428571\n",
            "Precision: 0.6011577639751553\n",
            "Recall: 0.6171428571428571\n",
            "F1-Score: 0.581056389123392\n"
          ]
        },
        {
          "output_type": "stream",
          "name": "stderr",
          "text": [
            "/usr/local/lib/python3.10/dist-packages/sklearn/metrics/_classification.py:1344: UndefinedMetricWarning: Precision is ill-defined and being set to 0.0 in labels with no predicted samples. Use `zero_division` parameter to control this behavior.\n",
            "  _warn_prf(average, modifier, msg_start, len(result))\n",
            "/usr/local/lib/python3.10/dist-packages/sklearn/metrics/_classification.py:1344: UndefinedMetricWarning: Precision is ill-defined and being set to 0.0 in labels with no predicted samples. Use `zero_division` parameter to control this behavior.\n",
            "  _warn_prf(average, modifier, msg_start, len(result))\n"
          ]
        }
      ]
    },
    {
      "cell_type": "code",
      "source": [],
      "metadata": {
        "id": "XZyVYRIgw3CE"
      },
      "execution_count": null,
      "outputs": []
    }
  ]
}